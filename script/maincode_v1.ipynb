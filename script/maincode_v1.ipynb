{
 "cells": [
  {
   "cell_type": "markdown",
   "metadata": {},
   "source": [
    "Import Libraries"
   ]
  },
  {
   "cell_type": "code",
   "execution_count": 23,
   "metadata": {},
   "outputs": [],
   "source": [
    "import pandas as pd\n",
    "import numpy as np\n",
    "from bs4 import BeautifulSoup\n",
    "import requests"
   ]
  },
  {
   "cell_type": "markdown",
   "metadata": {},
   "source": [
    "Get the HTML data by BeautifulSoap"
   ]
  },
  {
   "cell_type": "code",
   "execution_count": 24,
   "metadata": {},
   "outputs": [],
   "source": [
    "url=\"https://en.wikipedia.org/wiki/List_of_postal_codes_of_Canada:_M\"\n",
    "html_content = requests.get(url).text\n",
    "soup = BeautifulSoup(html_content, \"lxml\")"
   ]
  },
  {
   "cell_type": "markdown",
   "metadata": {},
   "source": [
    "Extract the table-related data by using idendifier of 'div' and stor the data as 'tabledata'"
   ]
  },
  {
   "cell_type": "code",
   "execution_count": 25,
   "metadata": {},
   "outputs": [],
   "source": [
    "extracted = soup.find('div', class_='mw-parser-output')\n",
    "tabledata = extracted.table.tbody"
   ]
  },
  {
   "cell_type": "markdown",
   "metadata": {},
   "source": [
    "Prepare a Dataframe to be used in data storing with its header name of Postalcode, Borough, and Neighborhood"
   ]
  },
  {
   "cell_type": "code",
   "execution_count": 26,
   "metadata": {},
   "outputs": [],
   "source": [
    "column_names = ['Postalcode','Borough','Neighborhood']\n",
    "TableTrimed = pd.DataFrame(columns = column_names)"
   ]
  },
  {
   "cell_type": "markdown",
   "metadata": {},
   "source": [
    "To extract the table data, use loops to find all 'tr' strings that are always used in the beginning of each row.\n",
    "Then use another loop to find 'td' that indicates the beginning of each column.\n",
    "'cnt' is used to identify which # of column we are at.\n",
    "As instructed, if Borough is \"Not assigned\", the data is replaced as \"NaN\".\n",
    "Also, if Neighborhood is not assigned, the data is replaced with the data of Borough.\n",
    "Finally, by removing NaN component, the cleaned dataframe is obtained."
   ]
  },
  {
   "cell_type": "code",
   "execution_count": 27,
   "metadata": {},
   "outputs": [],
   "source": [
    "for tri in tabledata.find_all('tr'):\n",
    "   cnt=0\n",
    "   for tdi in tri.find_all('td'):\n",
    "       cnt=cnt+1\n",
    "       if cnt ==1:\n",
    "           Postem=tdi.text\n",
    "       elif cnt==2:\n",
    "           Bortem=tdi.text\n",
    "           if Bortem.find('Not assigned') != -1:\n",
    "               Bortem=np.nan\n",
    "       elif cnt==3:\n",
    "           Neitem=tdi.text\n",
    "           if Neitem.find('Not assigned') != -1:\n",
    "               Neitem=Bortem\n",
    "           TableTrimed = TableTrimed.append({'Postalcode': Postem,'Borough': Bortem,'Neighborhood': Neitem},ignore_index=True)\n",
    "\n",
    "TableTrimedr=TableTrimed.dropna() "
   ]
  },
  {
   "cell_type": "markdown",
   "metadata": {},
   "source": [
    "The trimmed dataframe size is shown below"
   ]
  },
  {
   "cell_type": "code",
   "execution_count": 28,
   "metadata": {},
   "outputs": [
    {
     "name": "stdout",
     "output_type": "stream",
     "text": [
      "(103, 3)\n"
     ]
    }
   ],
   "source": [
    "print(TableTrimedr.shape)"
   ]
  },
  {
   "cell_type": "code",
   "execution_count": null,
   "metadata": {},
   "outputs": [],
   "source": []
  }
 ],
 "metadata": {
  "kernelspec": {
   "display_name": "Python 3",
   "language": "python",
   "name": "python3"
  },
  "language_info": {
   "codemirror_mode": {
    "name": "ipython",
    "version": 3
   },
   "file_extension": ".py",
   "mimetype": "text/x-python",
   "name": "python",
   "nbconvert_exporter": "python",
   "pygments_lexer": "ipython3",
   "version": "3.8.3"
  }
 },
 "nbformat": 4,
 "nbformat_minor": 4
}
